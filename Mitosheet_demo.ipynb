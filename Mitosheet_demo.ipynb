{
 "cells": [
  {
   "cell_type": "code",
   "execution_count": 4,
   "metadata": {},
   "outputs": [],
   "source": [
    "import mitosheet"
   ]
  },
  {
   "cell_type": "code",
   "execution_count": 3,
   "metadata": {},
   "outputs": [
    {
     "data": {
      "application/vnd.jupyter.widget-view+json": {
       "model_id": "702e462b489a432280b65bb10b1af439",
       "version_major": 2,
       "version_minor": 0
      },
      "text/plain": [
       "MitoWidget(analysis_name='UUID-ba71a519-c8c3-48f3-9d50-285c665e54b6', code_json='{\"imports\": \"from mitosheet i…"
      ]
     },
     "metadata": {},
     "output_type": "display_data"
    }
   ],
   "source": [
    "mitosheet.sheet()"
   ]
  },
  {
   "cell_type": "code",
   "execution_count": null,
   "metadata": {},
   "outputs": [],
   "source": [
    "# MITO CODE START (DO NOT EDIT)\n",
    "\n",
    "from mitosheet import * # Import necessary functions from Mito\n",
    "register_analysis('UUID-ba71a519-c8c3-48f3-9d50-285c665e54b6') # Let Mito know which analysis is being run\n",
    "\n",
    "# Imported Employee_Details.csv\n",
    "import pandas as pd\n",
    "Employee_Details_csv = pd.read_csv('Employee_Details.csv')\n",
    "Employee_Details_csv.rename(columns={\"Employee Name\": \"Employee_Name\", \"Salary LPA\": \"Salary_LPA\", \"Appraisal Rate\": \"Appraisal_Rate\", \"Joining Date\": \"Joining_Date\"}, inplace=True)\n",
    "\n",
    "# Added column I to Employee_Details_csv\n",
    "Employee_Details_csv.insert(1, 'I', 0)\n",
    "\n",
    "# Set I in Employee_Details_csv to =DATEVALUE(Joining_Date)\n",
    "Employee_Details_csv['I'] = DATEVALUE(Employee_Details_csv['Joining_Date'])\n",
    "\n",
    "# Added column J to Employee_Details_csv\n",
    "Employee_Details_csv.insert(2, 'J', 0)\n",
    "\n",
    "# Set J in Employee_Details_csv to =DAY(Joining_Date)\n",
    "Employee_Details_csv['J'] = DAY(Employee_Details_csv['Joining_Date'])\n",
    "\n",
    "# Added column K to Employee_Details_csv\n",
    "Employee_Details_csv.insert(3, 'K', 0)\n",
    "\n",
    "# Set K in Employee_Details_csv to =CONCAT(Employee_Name,City) \n",
    "Employee_Details_csv['K'] = CONCAT(Employee_Details_csv['Employee_Name'],Employee_Details_csv['City'])\n",
    "\n",
    "# Pivoted Employee_Details_csv into df2\n",
    "pivot_table = Employee_Details_csv.pivot_table(\n",
    "    index=['Salary_LPA'],\n",
    "    values=['Incentive'],\n",
    "    aggfunc={'Incentive': 'max'}\n",
    ")\n",
    "\n",
    "# Reset the column name and the indexes\n",
    "df2 = pivot_table.rename_axis(None, axis=1).reset_index()\n",
    "\n",
    "# Changed City from object to str\n",
    "Employee_Details_csv['City'] = Employee_Details_csv['City']\n",
    "\n",
    "# Changed Salary_LPA from int64 to float\n",
    "Employee_Details_csv['Salary_LPA'] = Employee_Details_csv['Salary_LPA'].astype('float')\n",
    "\n",
    "  \n",
    "# MITO CODE END (DO NOT EDIT)"
   ]
  },
  {
   "cell_type": "code",
   "execution_count": null,
   "metadata": {},
   "outputs": [],
   "source": []
  },
  {
   "cell_type": "code",
   "execution_count": null,
   "metadata": {},
   "outputs": [],
   "source": []
  },
  {
   "cell_type": "code",
   "execution_count": null,
   "metadata": {},
   "outputs": [],
   "source": []
  },
  {
   "cell_type": "code",
   "execution_count": null,
   "metadata": {},
   "outputs": [],
   "source": []
  },
  {
   "cell_type": "code",
   "execution_count": null,
   "metadata": {},
   "outputs": [],
   "source": []
  },
  {
   "cell_type": "code",
   "execution_count": null,
   "metadata": {},
   "outputs": [],
   "source": []
  }
 ],
 "metadata": {
  "kernelspec": {
   "display_name": "Python 3",
   "language": "python",
   "name": "python3"
  },
  "language_info": {
   "codemirror_mode": {
    "name": "ipython",
    "version": 3
   },
   "file_extension": ".py",
   "mimetype": "text/x-python",
   "name": "python",
   "nbconvert_exporter": "python",
   "pygments_lexer": "ipython3",
   "version": "3.8.5"
  }
 },
 "nbformat": 4,
 "nbformat_minor": 4
}
